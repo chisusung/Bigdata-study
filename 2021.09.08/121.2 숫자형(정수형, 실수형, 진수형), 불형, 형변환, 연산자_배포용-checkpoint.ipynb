{
 "cells": [
  {
   "cell_type": "markdown",
   "id": "cd3d0568",
   "metadata": {},
   "source": [
    "# 숫자형(정수형, 실수형, 진수형), 불형, 형변환, 연산자"
   ]
  },
  {
   "cell_type": "markdown",
   "id": "4bb71142",
   "metadata": {},
   "source": [
    "### 숫자형"
   ]
  },
  {
   "cell_type": "markdown",
   "id": "e7290643",
   "metadata": {},
   "source": [
    "### 정수형"
   ]
  },
  {
   "cell_type": "code",
   "execution_count": 1,
   "id": "c58b6ca3",
   "metadata": {},
   "outputs": [
    {
     "data": {
      "text/plain": [
       "123"
      ]
     },
     "execution_count": 1,
     "metadata": {},
     "output_type": "execute_result"
    }
   ],
   "source": [
    "123"
   ]
  },
  {
   "cell_type": "code",
   "execution_count": 2,
   "id": "62f878dd",
   "metadata": {},
   "outputs": [
    {
     "data": {
      "text/plain": [
       "int"
      ]
     },
     "execution_count": 2,
     "metadata": {},
     "output_type": "execute_result"
    }
   ],
   "source": [
    "type(123)"
   ]
  },
  {
   "cell_type": "code",
   "execution_count": 3,
   "id": "20f6d5d2",
   "metadata": {},
   "outputs": [],
   "source": [
    "a = 123"
   ]
  },
  {
   "cell_type": "code",
   "execution_count": 4,
   "id": "d23944b0",
   "metadata": {},
   "outputs": [
    {
     "data": {
      "text/plain": [
       "int"
      ]
     },
     "execution_count": 4,
     "metadata": {},
     "output_type": "execute_result"
    }
   ],
   "source": [
    "type(a)"
   ]
  },
  {
   "cell_type": "code",
   "execution_count": null,
   "id": "795250aa",
   "metadata": {},
   "outputs": [],
   "source": []
  },
  {
   "cell_type": "code",
   "execution_count": null,
   "id": "a6fe9f41",
   "metadata": {},
   "outputs": [],
   "source": []
  },
  {
   "cell_type": "markdown",
   "id": "3ba06792",
   "metadata": {},
   "source": [
    "### 진수형"
   ]
  },
  {
   "cell_type": "code",
   "execution_count": null,
   "id": "4db3d0f1",
   "metadata": {},
   "outputs": [],
   "source": []
  },
  {
   "cell_type": "markdown",
   "id": "fc7b1887",
   "metadata": {},
   "source": [
    "### 실수형"
   ]
  },
  {
   "cell_type": "code",
   "execution_count": null,
   "id": "f5bf60ae",
   "metadata": {},
   "outputs": [],
   "source": []
  },
  {
   "cell_type": "code",
   "execution_count": null,
   "id": "baed6026",
   "metadata": {},
   "outputs": [],
   "source": []
  },
  {
   "cell_type": "markdown",
   "id": "67ee9457",
   "metadata": {},
   "source": [
    "### 숫자형 자료의 특징"
   ]
  },
  {
   "cell_type": "code",
   "execution_count": null,
   "id": "3d29e315",
   "metadata": {},
   "outputs": [],
   "source": []
  },
  {
   "cell_type": "markdown",
   "id": "a5b5b1a5",
   "metadata": {},
   "source": [
    "# 불형(논리형, boolean type)"
   ]
  },
  {
   "cell_type": "code",
   "execution_count": null,
   "id": "39587202",
   "metadata": {},
   "outputs": [],
   "source": []
  },
  {
   "cell_type": "code",
   "execution_count": null,
   "id": "bf480973",
   "metadata": {},
   "outputs": [],
   "source": [
    "# 다른 자료형의 불리언 값 판정"
   ]
  },
  {
   "cell_type": "code",
   "execution_count": null,
   "id": "56c25767",
   "metadata": {},
   "outputs": [],
   "source": []
  },
  {
   "cell_type": "code",
   "execution_count": null,
   "id": "9ad4b2b3",
   "metadata": {},
   "outputs": [],
   "source": []
  },
  {
   "cell_type": "markdown",
   "id": "8ff1f282",
   "metadata": {},
   "source": [
    "# 문자열형"
   ]
  },
  {
   "cell_type": "code",
   "execution_count": null,
   "id": "1745dab1",
   "metadata": {},
   "outputs": [],
   "source": []
  },
  {
   "cell_type": "markdown",
   "id": "2b92e85c",
   "metadata": {},
   "source": [
    "# 데이터의 형변환"
   ]
  },
  {
   "cell_type": "code",
   "execution_count": null,
   "id": "6d0bae9b",
   "metadata": {},
   "outputs": [],
   "source": [
    "# 형변환 하는법 - 데이터의 형을 지정하여 변환한다"
   ]
  },
  {
   "cell_type": "code",
   "execution_count": null,
   "id": "aea13459",
   "metadata": {},
   "outputs": [],
   "source": []
  },
  {
   "cell_type": "code",
   "execution_count": null,
   "id": "bf37fbe1",
   "metadata": {},
   "outputs": [],
   "source": []
  },
  {
   "cell_type": "markdown",
   "id": "fd5a2404",
   "metadata": {},
   "source": [
    "# 연산자"
   ]
  },
  {
   "cell_type": "code",
   "execution_count": 2,
   "id": "0ff6a662",
   "metadata": {},
   "outputs": [],
   "source": [
    "# 산술 연산자"
   ]
  },
  {
   "cell_type": "code",
   "execution_count": null,
   "id": "16adff2f",
   "metadata": {},
   "outputs": [],
   "source": []
  },
  {
   "cell_type": "code",
   "execution_count": 3,
   "id": "c5f471a6",
   "metadata": {},
   "outputs": [],
   "source": [
    "# 논리 연산자"
   ]
  },
  {
   "cell_type": "code",
   "execution_count": null,
   "id": "4a38f13c",
   "metadata": {},
   "outputs": [],
   "source": []
  },
  {
   "cell_type": "code",
   "execution_count": 4,
   "id": "2b02769b",
   "metadata": {},
   "outputs": [],
   "source": [
    "# 비교 연산자"
   ]
  },
  {
   "cell_type": "code",
   "execution_count": null,
   "id": "60e7c7b3",
   "metadata": {},
   "outputs": [],
   "source": []
  },
  {
   "cell_type": "code",
   "execution_count": 5,
   "id": "26fbf957",
   "metadata": {},
   "outputs": [],
   "source": [
    "# ascii code 비교"
   ]
  },
  {
   "cell_type": "code",
   "execution_count": null,
   "id": "53dbda74",
   "metadata": {},
   "outputs": [],
   "source": []
  },
  {
   "cell_type": "code",
   "execution_count": 6,
   "id": "100bf7ac",
   "metadata": {},
   "outputs": [],
   "source": [
    "# 논리 연산자와 비교 연산자를 함께 사용하기"
   ]
  },
  {
   "cell_type": "code",
   "execution_count": null,
   "id": "090ad354",
   "metadata": {},
   "outputs": [],
   "source": []
  },
  {
   "cell_type": "code",
   "execution_count": null,
   "id": "7635f03a",
   "metadata": {},
   "outputs": [],
   "source": [
    "# 연산자 quiz"
   ]
  },
  {
   "cell_type": "raw",
   "id": "21de585a",
   "metadata": {},
   "source": [
    "1. M 영화관의 vip고객은 매 분기마다 영화 관람 이력에 따라 재산정됩니다. M 영화관의 vip 고객이 되려면 3, 4, 5월 영화 관람 이력이 매월 3회 이상이어야 합니다. 고객 A는 3월 2회, 4월 4회, 5월 3회 영화를 관람하였습니다. 고객 A의 영화 이력을 참고하여 vip고객이 될 수 있는지 비교 연산자와 논리 연산자의 합으로 표현하고 결과를 출력하시오.\n"
   ]
  },
  {
   "cell_type": "code",
   "execution_count": null,
   "id": "e5d36f19",
   "metadata": {},
   "outputs": [],
   "source": []
  },
  {
   "cell_type": "raw",
   "id": "67f3b8ad",
   "metadata": {},
   "source": [
    "2.키보드 입력을 통하여 임의의 고객의 3월, 4월, 5월의 영화 관람 이력을 각각 입력 받아, 해당 고객이 다음 분기 vip 고객이 될 수 있는지 출력하는 프로그램을 작성하시오. \n"
   ]
  },
  {
   "cell_type": "code",
   "execution_count": null,
   "id": "70dbdec5",
   "metadata": {},
   "outputs": [],
   "source": []
  },
  {
   "cell_type": "code",
   "execution_count": null,
   "id": "d2f2273f",
   "metadata": {},
   "outputs": [],
   "source": []
  }
 ],
 "metadata": {
  "kernelspec": {
   "display_name": "Python 3",
   "language": "python",
   "name": "python3"
  },
  "language_info": {
   "codemirror_mode": {
    "name": "ipython",
    "version": 3
   },
   "file_extension": ".py",
   "mimetype": "text/x-python",
   "name": "python",
   "nbconvert_exporter": "python",
   "pygments_lexer": "ipython3",
   "version": "3.8.8"
  }
 },
 "nbformat": 4,
 "nbformat_minor": 5
}
