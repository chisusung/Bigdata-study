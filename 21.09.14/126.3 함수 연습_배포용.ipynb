{
 "cells": [
  {
   "cell_type": "markdown",
   "id": "024162c7",
   "metadata": {},
   "source": [
    "## 함수, 클래스, 모듈 연습 문제"
   ]
  },
  {
   "cell_type": "code",
   "execution_count": null,
   "id": "44090691",
   "metadata": {},
   "outputs": [],
   "source": []
  },
  {
   "cell_type": "raw",
   "id": "b891dfc7",
   "metadata": {},
   "source": [
    "#1) 임의의 두 숫자를 키보드에서 입력 받고 두 수를 더하여 결과를 리턴하는 함수(add_number(a, b))를 작성하라"
   ]
  },
  {
   "cell_type": "code",
   "execution_count": 2,
   "id": "52931962",
   "metadata": {},
   "outputs": [
    {
     "name": "stdout",
     "output_type": "stream",
     "text": [
      "임의의 숫자를 입력하세요: 11\n",
      "임의의 숫자를 입력하세요: 12\n"
     ]
    },
    {
     "data": {
      "text/plain": [
       "23"
      ]
     },
     "execution_count": 2,
     "metadata": {},
     "output_type": "execute_result"
    }
   ],
   "source": [
    "a = int(input('임의의 숫자를 입력하세요: '))\n",
    "b = int(input('임의의 숫자를 입력하세요: '))\n",
    "\n",
    "def add_number(a, b):\n",
    "    x = a + b\n",
    "    return x\n",
    "\n",
    "add_number(a, b)"
   ]
  },
  {
   "cell_type": "raw",
   "id": "4e5203ff",
   "metadata": {},
   "source": [
    "#2)임의의 문자열를 키보드에서 2회 입력받아 각각 text1, text2에 할당하라.\n",
    "# 할당한 text1, text2를 인자값으로 전달받아, 전달받은 두 인자를 연결하여 출력하는 함수(add_string(t1, t2))를 작성하라"
   ]
  },
  {
   "cell_type": "code",
   "execution_count": 3,
   "id": "ec0d5eef",
   "metadata": {},
   "outputs": [
    {
     "name": "stdout",
     "output_type": "stream",
     "text": [
      "문자를 입력하세요: 가\n",
      "문자를 입력하세요: 나\n"
     ]
    },
    {
     "data": {
      "text/plain": [
       "'가나'"
      ]
     },
     "execution_count": 3,
     "metadata": {},
     "output_type": "execute_result"
    }
   ],
   "source": [
    "text1 = input('문자를 입력하세요: ')\n",
    "text2 = input('문자를 입력하세요: ')\n",
    "\n",
    "def add_string(t1, t2):\n",
    "    s = text1 + text2\n",
    "    return s\n",
    "\n",
    "add_string(text1, text2)"
   ]
  },
  {
   "cell_type": "raw",
   "id": "f6bbe5a5",
   "metadata": {},
   "source": [
    "#3) 임의의 숫자 3개를 키보드에서 입력받고 세 개의 숫자를 함수(reverse_num)의 입력값으로 전달한다. 함수는 입력 받은 3개의 값을 역순으로 return하도록 작성하라."
   ]
  },
  {
   "cell_type": "code",
   "execution_count": 3,
   "id": "688f6838",
   "metadata": {},
   "outputs": [],
   "source": [
    "def reverse_num():\n",
    "    a = input()\n",
    "    b = input()\n",
    "    c = input()\n",
    "    s = [a, b, c]\n",
    "    return s[::-1]"
   ]
  },
  {
   "cell_type": "code",
   "execution_count": 4,
   "id": "1d6126b8",
   "metadata": {},
   "outputs": [
    {
     "name": "stdout",
     "output_type": "stream",
     "text": [
      "1\n",
      "2\n",
      "3\n"
     ]
    },
    {
     "data": {
      "text/plain": [
       "['3', '2', '1']"
      ]
     },
     "execution_count": 4,
     "metadata": {},
     "output_type": "execute_result"
    }
   ],
   "source": [
    "reverse_num()"
   ]
  },
  {
   "cell_type": "code",
   "execution_count": 2,
   "id": "6df60853",
   "metadata": {},
   "outputs": [
    {
     "name": "stdout",
     "output_type": "stream",
     "text": [
      "숫자를 입력하세요: 1\n",
      "숫자를 입력하세요: 2\n",
      "숫자를 입력하세요: 3\n"
     ]
    },
    {
     "data": {
      "text/plain": [
       "(3, 2, 1)"
      ]
     },
     "execution_count": 2,
     "metadata": {},
     "output_type": "execute_result"
    }
   ],
   "source": [
    "def reverse_num(a,b,c):\n",
    "    return c, b, a\n",
    "\n",
    "x = int(input('숫자를 입력하세요: '))\n",
    "y = int(input('숫자를 입력하세요: '))\n",
    "z = int(input('숫자를 입력하세요: '))\n",
    "\n",
    "reverse_num(x, y, z)"
   ]
  },
  {
   "cell_type": "code",
   "execution_count": null,
   "id": "48985305",
   "metadata": {},
   "outputs": [],
   "source": []
  },
  {
   "cell_type": "code",
   "execution_count": null,
   "id": "c707b06a",
   "metadata": {},
   "outputs": [],
   "source": []
  },
  {
   "cell_type": "code",
   "execution_count": 9,
   "id": "a08cfbc7",
   "metadata": {},
   "outputs": [
    {
     "name": "stdout",
     "output_type": "stream",
     "text": [
      "원하는 단을 입력하세요: 5\n",
      "5 * 1 = 5\n",
      "5 * 2 = 10\n",
      "5 * 3 = 15\n",
      "5 * 4 = 20\n",
      "5 * 5 = 25\n",
      "5 * 6 = 30\n",
      "5 * 7 = 35\n",
      "5 * 8 = 40\n",
      "5 * 9 = 45\n",
      "5 * 10 = 50\n",
      "5 * 11 = 55\n",
      "5 * 12 = 60\n",
      "5 * 13 = 65\n",
      "5 * 14 = 70\n",
      "5 * 15 = 75\n",
      "5 * 16 = 80\n",
      "5 * 17 = 85\n",
      "5 * 18 = 90\n",
      "5 * 19 = 95\n"
     ]
    }
   ],
   "source": [
    "#구구단 만들기 함수\n",
    "\n",
    "def make_gugudan(a):\n",
    "    for i in range(1, 20, 1):\n",
    "        print(a, '*', i, '=', a * i)\n",
    "    return\n",
    "    \n",
    "x = int(input('원하는 단을 입력하세요: '))\n",
    "make_gugudan(x)"
   ]
  },
  {
   "cell_type": "code",
   "execution_count": null,
   "id": "5a3a934e",
   "metadata": {},
   "outputs": [],
   "source": []
  }
 ],
 "metadata": {
  "kernelspec": {
   "display_name": "Python 3",
   "language": "python",
   "name": "python3"
  },
  "language_info": {
   "codemirror_mode": {
    "name": "ipython",
    "version": 3
   },
   "file_extension": ".py",
   "mimetype": "text/x-python",
   "name": "python",
   "nbconvert_exporter": "python",
   "pygments_lexer": "ipython3",
   "version": "3.8.8"
  }
 },
 "nbformat": 4,
 "nbformat_minor": 5
}
