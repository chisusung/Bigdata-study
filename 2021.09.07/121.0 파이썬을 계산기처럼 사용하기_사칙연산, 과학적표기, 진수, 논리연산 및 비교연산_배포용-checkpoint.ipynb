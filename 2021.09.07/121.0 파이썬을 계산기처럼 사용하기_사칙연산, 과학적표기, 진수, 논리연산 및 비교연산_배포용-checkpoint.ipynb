{
 "cells": [
  {
   "cell_type": "markdown",
   "id": "aabca6a2",
   "metadata": {},
   "source": [
    "# 마크다운 문서 형식\n",
    "\n",
    "# 1단계 제목\n",
    "## 2단계 제목\n",
    "### 3단계 제목\n",
    "\n",
    "**강조**하는 경우\n",
    "\n",
    "* 목록\n",
    "- 목록\n"
   ]
  },
  {
   "cell_type": "markdown",
   "id": "51861e89",
   "metadata": {},
   "source": [
    "# 간단한 사칙 연산"
   ]
  },
  {
   "cell_type": "code",
   "execution_count": null,
   "id": "10524b1f",
   "metadata": {},
   "outputs": [],
   "source": [
    "# 교사) +, -, *, /\n",
    "# 정수, 실수 연산"
   ]
  },
  {
   "cell_type": "markdown",
   "id": "0791e311",
   "metadata": {},
   "source": [
    "# 거듭제곱과 나머지"
   ]
  },
  {
   "cell_type": "code",
   "execution_count": null,
   "id": "9193e8b0",
   "metadata": {},
   "outputs": [],
   "source": []
  },
  {
   "cell_type": "markdown",
   "id": "ddc6af52",
   "metadata": {},
   "source": [
    "# 과학적 표기법"
   ]
  },
  {
   "cell_type": "code",
   "execution_count": null,
   "id": "0ecce380",
   "metadata": {},
   "outputs": [],
   "source": [
    "# 연산을 할 때 아주 큰 수나 작은 수를 다룰 때 \n",
    "3e8 # 빛의 속도 3000000000 m/s"
   ]
  },
  {
   "cell_type": "code",
   "execution_count": null,
   "id": "c4c0ace4",
   "metadata": {},
   "outputs": [],
   "source": [
    "1e-5"
   ]
  },
  {
   "cell_type": "code",
   "execution_count": null,
   "id": "091a75eb",
   "metadata": {},
   "outputs": [],
   "source": [
    "1e-4"
   ]
  },
  {
   "cell_type": "code",
   "execution_count": null,
   "id": "5e023533",
   "metadata": {},
   "outputs": [],
   "source": [
    "1e15, 1e16"
   ]
  },
  {
   "cell_type": "code",
   "execution_count": null,
   "id": "4106241b",
   "metadata": {},
   "outputs": [],
   "source": []
  },
  {
   "cell_type": "markdown",
   "id": "bb5f3bc8",
   "metadata": {},
   "source": [
    "# 진수 표현과 변환"
   ]
  },
  {
   "cell_type": "code",
   "execution_count": null,
   "id": "d305cc83",
   "metadata": {},
   "outputs": [],
   "source": [
    "# 17"
   ]
  },
  {
   "cell_type": "code",
   "execution_count": null,
   "id": "651fdde4",
   "metadata": {},
   "outputs": [],
   "source": [
    "0b10001"
   ]
  },
  {
   "cell_type": "code",
   "execution_count": null,
   "id": "c99da51f",
   "metadata": {},
   "outputs": [],
   "source": [
    "0o21"
   ]
  },
  {
   "cell_type": "code",
   "execution_count": null,
   "id": "5c021959",
   "metadata": {},
   "outputs": [],
   "source": [
    "0x11"
   ]
  },
  {
   "cell_type": "code",
   "execution_count": null,
   "id": "9aa6d5f3",
   "metadata": {},
   "outputs": [],
   "source": [
    "bin(17)"
   ]
  },
  {
   "cell_type": "code",
   "execution_count": null,
   "id": "ea35a3e4",
   "metadata": {},
   "outputs": [],
   "source": [
    "oct(17)"
   ]
  },
  {
   "cell_type": "code",
   "execution_count": null,
   "id": "b161d1ba",
   "metadata": {},
   "outputs": [],
   "source": [
    "hex(17)"
   ]
  },
  {
   "cell_type": "code",
   "execution_count": null,
   "id": "7b8eb457",
   "metadata": {},
   "outputs": [],
   "source": []
  },
  {
   "cell_type": "markdown",
   "id": "5af78b38",
   "metadata": {},
   "source": [
    "# 논리 연산 및 비교 연산"
   ]
  },
  {
   "cell_type": "code",
   "execution_count": null,
   "id": "a2551f36",
   "metadata": {},
   "outputs": [],
   "source": [
    "print(True and False)"
   ]
  },
  {
   "cell_type": "code",
   "execution_count": null,
   "id": "aab0c4bd",
   "metadata": {},
   "outputs": [],
   "source": [
    "print(True or False)"
   ]
  },
  {
   "cell_type": "code",
   "execution_count": null,
   "id": "27d7a9da",
   "metadata": {},
   "outputs": [],
   "source": [
    "print(not True)"
   ]
  },
  {
   "cell_type": "code",
   "execution_count": null,
   "id": "246c0d77",
   "metadata": {},
   "outputs": [],
   "source": [
    "print( 5 == 3)"
   ]
  },
  {
   "cell_type": "code",
   "execution_count": null,
   "id": "cd270855",
   "metadata": {},
   "outputs": [],
   "source": [
    "print( 5 != 3)"
   ]
  },
  {
   "cell_type": "code",
   "execution_count": null,
   "id": "5e7569ec",
   "metadata": {},
   "outputs": [],
   "source": [
    "print(5 < 3)"
   ]
  },
  {
   "cell_type": "code",
   "execution_count": 1,
   "id": "47663949",
   "metadata": {},
   "outputs": [
    {
     "name": "stdout",
     "output_type": "stream",
     "text": [
      "True\n"
     ]
    }
   ],
   "source": [
    "print( 1 > 0 and -2 < 0)"
   ]
  },
  {
   "cell_type": "code",
   "execution_count": null,
   "id": "a418bf6b",
   "metadata": {},
   "outputs": [],
   "source": []
  }
 ],
 "metadata": {
  "kernelspec": {
   "display_name": "Python 3",
   "language": "python",
   "name": "python3"
  },
  "language_info": {
   "codemirror_mode": {
    "name": "ipython",
    "version": 3
   },
   "file_extension": ".py",
   "mimetype": "text/x-python",
   "name": "python",
   "nbconvert_exporter": "python",
   "pygments_lexer": "ipython3",
   "version": "3.8.8"
  }
 },
 "nbformat": 4,
 "nbformat_minor": 5
}
