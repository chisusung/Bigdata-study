{
 "cells": [
  {
   "cell_type": "code",
   "execution_count": 10,
   "id": "8e74033c",
   "metadata": {},
   "outputs": [],
   "source": [
    "# 태양계를 구성하는 천체의 한글 이름을 키, 영문 이름을 값으로 하는 사전(solar_dict)을 구성하라\n",
    "\n",
    "kor =['태양', '수성', '금성', '지구', '화성', '목성', '토성', '천왕성', '해왕성']\n",
    "eng = ['sun', 'mercury', 'venus', 'earth', 'mars', 'jupyter', 'saturn', 'uranus', 'neptune']"
   ]
  },
  {
   "cell_type": "code",
   "execution_count": null,
   "id": "3f68f3e5",
   "metadata": {},
   "outputs": [],
   "source": [
    "solar_dict = dict(태양 = 'sun', 수성 = 'mercury', 금성 = 'venus', 지구 = 'earth'\n",
    "                 화성 = 'mars', 목성 = 'jupyter', 토성 = 'saturn', 천왕성 = 'uranus'\n",
    "                 해왕성)"
   ]
  },
  {
   "cell_type": "code",
   "execution_count": null,
   "id": "0a0ea187",
   "metadata": {},
   "outputs": [],
   "source": []
  },
  {
   "cell_type": "code",
   "execution_count": null,
   "id": "1eb36f76",
   "metadata": {},
   "outputs": [],
   "source": [
    "# 다음은 과일이름과 갯수 정보를 바탕으로 각각을 쌍으로 하는 사전(fruit_dict)을 생성하시오. \n",
    "name = ['apple', 'banana', 'tomato' ,'strawberry', 'kiwi', 'grape', 'peach']\n",
    "num = [30, 40, 50, 100, 20000, 80, 6]"
   ]
  },
  {
   "cell_type": "code",
   "execution_count": 2,
   "id": "f79bef14",
   "metadata": {},
   "outputs": [],
   "source": [
    "# apple의 갯수를 5로 변경하라"
   ]
  },
  {
   "cell_type": "code",
   "execution_count": null,
   "id": "173a4ea5",
   "metadata": {},
   "outputs": [],
   "source": []
  },
  {
   "cell_type": "code",
   "execution_count": 3,
   "id": "8bde7793",
   "metadata": {},
   "outputs": [],
   "source": [
    "# 위 사전에서 apple항목을 제거하라"
   ]
  },
  {
   "cell_type": "code",
   "execution_count": null,
   "id": "d31cbcd2",
   "metadata": {},
   "outputs": [],
   "source": []
  },
  {
   "cell_type": "code",
   "execution_count": 4,
   "id": "cd0c7d65",
   "metadata": {},
   "outputs": [],
   "source": [
    "# 위 사전의 모든 항목(요소)을 제거하고 빈 사전으로 만드시오."
   ]
  },
  {
   "cell_type": "code",
   "execution_count": null,
   "id": "1c7c4d38",
   "metadata": {},
   "outputs": [],
   "source": []
  },
  {
   "cell_type": "code",
   "execution_count": 5,
   "id": "952467e8",
   "metadata": {},
   "outputs": [],
   "source": [
    "# 과일 갯수 사전을 다시 활용하여 모든 과일 이름을 출력하시오"
   ]
  },
  {
   "cell_type": "code",
   "execution_count": null,
   "id": "c93bf331",
   "metadata": {},
   "outputs": [],
   "source": []
  },
  {
   "cell_type": "code",
   "execution_count": 6,
   "id": "3265ec49",
   "metadata": {},
   "outputs": [],
   "source": [
    "# 과일 갯수 사전에서 \n",
    "# 1) 과일 갯수만 출력하시오.\n",
    "# 2) 모든 과일을 더한 결과를 출력하시오."
   ]
  },
  {
   "cell_type": "code",
   "execution_count": null,
   "id": "84148e77",
   "metadata": {},
   "outputs": [],
   "source": []
  },
  {
   "cell_type": "code",
   "execution_count": 7,
   "id": "d143ef93",
   "metadata": {},
   "outputs": [],
   "source": [
    "# 과일 갯수 사전에서 모든 항목을 출력하시오"
   ]
  },
  {
   "cell_type": "code",
   "execution_count": null,
   "id": "d36b0806",
   "metadata": {},
   "outputs": [],
   "source": []
  },
  {
   "cell_type": "code",
   "execution_count": 8,
   "id": "12773b55",
   "metadata": {},
   "outputs": [],
   "source": [
    "# 과일 갯수 사전에 특정 과일이 존재하는지 출력하시오\n",
    "# 과일 : 'banana', 'grape', 'persimon'"
   ]
  },
  {
   "cell_type": "code",
   "execution_count": null,
   "id": "4f7c3e63",
   "metadata": {},
   "outputs": [],
   "source": []
  },
  {
   "cell_type": "code",
   "execution_count": 9,
   "id": "3c367a4c",
   "metadata": {},
   "outputs": [],
   "source": [
    "# 과일 갯수 사전을 과일 이름으로 정렬하시오"
   ]
  },
  {
   "cell_type": "code",
   "execution_count": null,
   "id": "a683f25c",
   "metadata": {},
   "outputs": [],
   "source": []
  },
  {
   "cell_type": "code",
   "execution_count": 11,
   "id": "f4906722",
   "metadata": {},
   "outputs": [],
   "source": [
    "# for 반복문을 사용하여 과일 이름을 차례로 출력하라(순서는 상관없음)"
   ]
  },
  {
   "cell_type": "code",
   "execution_count": null,
   "id": "63a4bf21",
   "metadata": {},
   "outputs": [],
   "source": []
  },
  {
   "cell_type": "code",
   "execution_count": 13,
   "id": "c30b8770",
   "metadata": {},
   "outputs": [],
   "source": [
    "# 다음과 같은 리스트 자료가 있다.\n",
    "# data1에서 서울역의 총유동인구수를 인덱싱하시오.\n",
    "data1 = [{'호선': '1호선',\n",
    "  '역명': '동대문',\n",
    "  '승차총승객수': 253079,\n",
    "  '하차총승객수': 250266,\n",
    "  '총유동인구수': 503345},\n",
    " {'호선': '1호선',\n",
    "  '역명': '동묘앞',\n",
    "  '승차총승객수': 201255,\n",
    "  '하차총승객수': 210176,\n",
    "  '총유동인구수': 411431},\n",
    " {'호선': '1호선',\n",
    "  '역명': '서울역',\n",
    "  '승차총승객수': 815894,\n",
    "  '하차총승객수': 776303,\n",
    "  '총유동인구수': 1592197}]\n",
    "\n"
   ]
  },
  {
   "cell_type": "code",
   "execution_count": null,
   "id": "f17b1e89",
   "metadata": {},
   "outputs": [],
   "source": []
  },
  {
   "cell_type": "code",
   "execution_count": null,
   "id": "2d99144f",
   "metadata": {},
   "outputs": [],
   "source": []
  }
 ],
 "metadata": {
  "kernelspec": {
   "display_name": "Python 3",
   "language": "python",
   "name": "python3"
  },
  "language_info": {
   "codemirror_mode": {
    "name": "ipython",
    "version": 3
   },
   "file_extension": ".py",
   "mimetype": "text/x-python",
   "name": "python",
   "nbconvert_exporter": "python",
   "pygments_lexer": "ipython3",
   "version": "3.8.8"
  }
 },
 "nbformat": 4,
 "nbformat_minor": 5
}
