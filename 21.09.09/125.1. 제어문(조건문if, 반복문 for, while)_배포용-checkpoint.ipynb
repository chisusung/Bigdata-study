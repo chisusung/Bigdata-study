{
 "cells": [
  {
   "cell_type": "markdown",
   "metadata": {},
   "source": [
    "#  제어문 - if, for, while\n"
   ]
  },
  {
   "cell_type": "markdown",
   "metadata": {},
   "source": [
    "## 조건문 - if - 단일 조건에 따른 분기\n",
    "#### condition (조건문)\n",
    " + 특정 조건을 만족하는 경우에만 수행할 작업이 있는 경우 사용\n",
    " + if는 조건을 확인하고 참(True), 거짓(False) 여부에 따라 실행 코드를 정함\n",
    " + 모든 조건은 boolean으로 표현 됨 (예외 사항은 아래 배울 예정)\n",
    " + if, elif, else 키워드가 사용\n",
    " \n",
    " + 여러 개의 실행문이 이어질 경우, 값은 들여쓰기를 유지한다\n"
   ]
  },
  {
   "cell_type": "code",
   "execution_count": null,
   "metadata": {},
   "outputs": [],
   "source": [
    "x =95\n",
    "\n",
    "if x=90 :\n",
    "    print"
   ]
  },
  {
   "cell_type": "code",
   "execution_count": null,
   "metadata": {},
   "outputs": [],
   "source": []
  },
  {
   "cell_type": "markdown",
   "metadata": {},
   "source": [
    "##  조건문 - if - 단일 조건 및 그 외 조건에 따른 분기(if ~ else)"
   ]
  },
  {
   "cell_type": "code",
   "execution_count": null,
   "metadata": {},
   "outputs": [],
   "source": []
  },
  {
   "cell_type": "code",
   "execution_count": null,
   "metadata": {},
   "outputs": [],
   "source": []
  },
  {
   "cell_type": "code",
   "execution_count": null,
   "metadata": {},
   "outputs": [],
   "source": []
  },
  {
   "cell_type": "markdown",
   "metadata": {},
   "source": [
    "### 들여쓰기(코드 블록)"
   ]
  },
  {
   "cell_type": "code",
   "execution_count": null,
   "metadata": {},
   "outputs": [],
   "source": [
    "#이유없는 들여쓰기(indentaion)는 오류를 발생시킴\n"
   ]
  },
  {
   "cell_type": "code",
   "execution_count": null,
   "metadata": {},
   "outputs": [],
   "source": []
  },
  {
   "cell_type": "markdown",
   "metadata": {},
   "source": [
    "\n",
    "#### 참조)파이썬의 코드 구조 (들여쓰기(indentation)로 구간의 시작과 끝을 정의\n",
    "\n",
    "+ 들여쓰기는 함수 몸체, 조건문 루프, 클래스 등 다양한 코드 블록을 나타낸다.\n",
    "+ 조건문의 경우 if, elif, else 블록에 종속된 코드는 들여쓰기로 표현 가능\n",
    "\n",
    "+ 즉 아래코드에서와 같이, 조건문 아래에 들여쓰기된 2줄의 코드만이 조건문의 조건에 따라 수행될 수도, 수행되지 않을 수도 있는 코드라고 할 수 있음\n",
    " + 들여쓰기 된 코드를 블록(block), 또는 코드블록이라고 함\n",
    " + python에서 모든 블록의 시작점의 마지막에는 :(콜론, colon) 추가가 필요\n",
    "\n"
   ]
  },
  {
   "cell_type": "markdown",
   "metadata": {},
   "source": [
    "#### *  코드 블록의 예\n",
    "\n",
    "if 6 >= 5:\n",
    "\n",
    "    print ('6 is greater than 5')\n",
    "    print ('Yeah, it is true')\n",
    "    \n",
    "print ('This code is not belongs to if statements')\n"
   ]
  },
  {
   "attachments": {
    "image.png": {
     "image/png": "[encoded data removed]"
    }
   },
   "cell_type": "markdown",
   "metadata": {},
   "source": [
    "### [quiz] 조건문 if\n",
    "![image.png](attachment:image.png)"
   ]
  },
  {
   "cell_type": "code",
   "execution_count": null,
   "metadata": {},
   "outputs": [],
   "source": []
  },
  {
   "cell_type": "code",
   "execution_count": null,
   "metadata": {},
   "outputs": [],
   "source": [
    "#[quiz] 3800원 보다 돈이 많으면 택시를 타고 아니면 걸어간다\n"
   ]
  },
  {
   "cell_type": "code",
   "execution_count": null,
   "metadata": {},
   "outputs": [],
   "source": []
  },
  {
   "cell_type": "code",
   "execution_count": null,
   "metadata": {},
   "outputs": [],
   "source": []
  },
  {
   "cell_type": "markdown",
   "metadata": {},
   "source": [
    "### 다양한 조건식"
   ]
  },
  {
   "cell_type": "markdown",
   "metadata": {},
   "source": [
    "### 비교 연산자를 사용하는 경우"
   ]
  },
  {
   "cell_type": "code",
   "execution_count": null,
   "metadata": {},
   "outputs": [],
   "source": []
  },
  {
   "cell_type": "code",
   "execution_count": null,
   "metadata": {},
   "outputs": [],
   "source": []
  },
  {
   "cell_type": "markdown",
   "metadata": {},
   "source": [
    "### 논리 연산자를 사용하는 경우"
   ]
  },
  {
   "cell_type": "code",
   "execution_count": null,
   "metadata": {},
   "outputs": [],
   "source": []
  },
  {
   "cell_type": "code",
   "execution_count": null,
   "metadata": {},
   "outputs": [],
   "source": []
  },
  {
   "attachments": {
    "image.png": {
     "image/png": "[encoded data removed]"
    }
   },
   "cell_type": "markdown",
   "metadata": {},
   "source": [
    "### if 조건문: 포함 연산자(in / not in)을 사용하는 경우 - 멤버 체크\n",
    "    - 문자열 안에 찾고자 하는 문자열이 있는 경우 True, 없으면 False\n",
    "    - 리스트나 튜플 등 복수의 자료 항목에서 찾는 항목이 존재하면 True, 없으면 False\n",
    "   \n",
    "![image.png](attachment:image.png)"
   ]
  },
  {
   "cell_type": "code",
   "execution_count": null,
   "metadata": {},
   "outputs": [],
   "source": []
  },
  {
   "cell_type": "code",
   "execution_count": null,
   "metadata": {},
   "outputs": [],
   "source": []
  },
  {
   "cell_type": "markdown",
   "metadata": {},
   "source": [
    "### - if 조건문이 bool이 아닌 경우 처리 방법:\n",
    "        if의 조건이 bool이 아닌 경우\n",
    "        일반적으로는 조건문에는 bool이 주로 위치 함\n",
    "        하지만, 정수, 실수, 문자열 리스트 등 기본 타입도 조건에 사용 가능\n",
    "        False로 간주되는 값 (각 타입의 기본값)\n",
    "        None\n",
    "        0\n",
    "        0.0\n",
    "        ''\n",
    "        [] -> 빈 리스트\n",
    "        () -> 빈 튜플\n",
    "        {} -> 빈 딕셔너리\n",
    "        set() -> 빈 집합\n",
    "        그밖에는 모두 True로 간주"
   ]
  },
  {
   "cell_type": "code",
   "execution_count": null,
   "metadata": {},
   "outputs": [],
   "source": []
  },
  {
   "cell_type": "code",
   "execution_count": null,
   "metadata": {},
   "outputs": [],
   "source": []
  },
  {
   "cell_type": "code",
   "execution_count": null,
   "metadata": {},
   "outputs": [],
   "source": []
  },
  {
   "cell_type": "markdown",
   "metadata": {},
   "source": [
    "### quiz] 입력된 정수가 짝수이면 \"짝수입니다.\", 홀수이면 \"홀수입니다\"를 출력하세요.(변수 num 에 입력 받은 숫자 할당하시오)\n"
   ]
  },
  {
   "cell_type": "code",
   "execution_count": null,
   "metadata": {},
   "outputs": [],
   "source": []
  },
  {
   "cell_type": "code",
   "execution_count": null,
   "metadata": {},
   "outputs": [],
   "source": []
  },
  {
   "cell_type": "markdown",
   "metadata": {},
   "source": [
    "##   if ~ elif ~ else: 여러 조건에 따른 분기\n",
    "    - elif를 사용하면 계속해서 분기를 할 수 있다.\n"
   ]
  },
  {
   "attachments": {
    "image.png": {
     "image/png": "[encoded data removed]"
    }
   },
   "cell_type": "markdown",
   "metadata": {},
   "source": [
    "![image.png](attachment:image.png)"
   ]
  },
  {
   "cell_type": "code",
   "execution_count": null,
   "metadata": {},
   "outputs": [],
   "source": []
  },
  {
   "cell_type": "raw",
   "metadata": {},
   "source": [
    "# if ~ elif ~ else로 표현하면?\n",
    "\n",
    "주머니에 돈이 있으면 택시를 타고(조건 1),\n",
    "돈은 없지만, 카드가 있으면 택시를 타고(조건 2)), \n",
    "돈도 없고 카드도 없으면 걸어간다.\n"
   ]
  },
  {
   "cell_type": "code",
   "execution_count": null,
   "metadata": {},
   "outputs": [],
   "source": []
  },
  {
   "cell_type": "code",
   "execution_count": null,
   "metadata": {},
   "outputs": [],
   "source": []
  },
  {
   "cell_type": "code",
   "execution_count": null,
   "metadata": {},
   "outputs": [],
   "source": []
  },
  {
   "cell_type": "markdown",
   "metadata": {},
   "source": [
    "#### [quiz] 2021년 9월 중 임의의 날짜를 입력 받아 해당 날짜가 무슨 요일인지 출력하시오. \n"
   ]
  },
  {
   "cell_type": "code",
   "execution_count": null,
   "metadata": {},
   "outputs": [],
   "source": []
  },
  {
   "cell_type": "code",
   "execution_count": null,
   "metadata": {},
   "outputs": [],
   "source": []
  },
  {
   "cell_type": "markdown",
   "metadata": {},
   "source": [
    "# 조건문 if> 중첩된 if문(nested if)\n",
    "    - 중첩된 if 문으로 표현할 수 있다.\n",
    "    - 중첩이 깊어지면 가독성이 떨어지지만, 조건의 성격이 달라 의미가 명확해질 경우 사용 가능함\n"
   ]
  },
  {
   "attachments": {
    "image.png": {
     "image/png": "[encoded data removed]"
    }
   },
   "cell_type": "markdown",
   "metadata": {},
   "source": [
    "![image.png](attachment:image.png)"
   ]
  },
  {
   "cell_type": "code",
   "execution_count": null,
   "metadata": {},
   "outputs": [],
   "source": [
    "#금도끼 , 은도끼"
   ]
  },
  {
   "cell_type": "code",
   "execution_count": null,
   "metadata": {},
   "outputs": [],
   "source": []
  },
  {
   "cell_type": "code",
   "execution_count": null,
   "metadata": {},
   "outputs": [],
   "source": []
  },
  {
   "attachments": {
    "image.png": {
     "image/png": "[encoded data removed]"
    }
   },
   "cell_type": "markdown",
   "metadata": {},
   "source": [
    "# if 표현식 : 3항 if문\n",
    "![image.png](attachment:image.png)"
   ]
  },
  {
   "cell_type": "code",
   "execution_count": null,
   "metadata": {},
   "outputs": [],
   "source": []
  },
  {
   "cell_type": "code",
   "execution_count": null,
   "metadata": {},
   "outputs": [],
   "source": []
  },
  {
   "cell_type": "code",
   "execution_count": null,
   "metadata": {},
   "outputs": [],
   "source": []
  },
  {
   "cell_type": "code",
   "execution_count": null,
   "metadata": {},
   "outputs": [],
   "source": []
  },
  {
   "cell_type": "code",
   "execution_count": null,
   "metadata": {},
   "outputs": [],
   "source": []
  },
  {
   "cell_type": "markdown",
   "metadata": {},
   "source": [
    "#### 2) 나이를 입력하였을때 10대, 20대, 30대, 40대, 50대를 맞추는 프로그램을 짜보자. (예 - 32를 입력하면 30대라고 출력됨)"
   ]
  },
  {
   "cell_type": "code",
   "execution_count": null,
   "metadata": {},
   "outputs": [],
   "source": []
  },
  {
   "cell_type": "code",
   "execution_count": null,
   "metadata": {},
   "outputs": [],
   "source": []
  },
  {
   "cell_type": "code",
   "execution_count": null,
   "metadata": {},
   "outputs": [],
   "source": []
  },
  {
   "cell_type": "markdown",
   "metadata": {},
   "source": [
    "## [도전 문제]\n",
    "### 년도를 입력받아 윤년 여부를 판단하는 파이썬 프로그램을 작성하라\n",
    "    윤년 판단 여부:\n",
    "        1) 4로 나누어 떨어지는 해는 윤년이고, 그 밖의 해는 평년이다\n",
    "        2) 다만, 4로 나누어 떨어지지만 100으로도 나누어 떨어지는 해는 평년이다\n",
    "        3) 단, 400으로 나누어 떨어지는 해는 윤년이다"
   ]
  },
  {
   "cell_type": "code",
   "execution_count": null,
   "metadata": {},
   "outputs": [],
   "source": []
  },
  {
   "cell_type": "code",
   "execution_count": null,
   "metadata": {},
   "outputs": [],
   "source": [
    "#알고리듬\n",
    "year = int(input(\"연도를 입력하세요\"))\n",
    "\n",
    "if (year % 4) != 0 :\n",
    "    print(\"{}년은 평년입니다\".format(year))\n",
    "    \n",
    "elif (year % 100) == 0 :\n",
    "    if year% 400 == 0 :\n",
    "        print(\"{}년은 윤년입니다\".format(year))\n",
    "    else:\n",
    "        print(\"{}년은 평년입니다\".format(year))\n",
    "else:\n",
    "    print(\"{}년은 평년입니다\".format(year))\n",
    "    \n",
    "    \n",
    "            "
   ]
  },
  {
   "cell_type": "code",
   "execution_count": null,
   "metadata": {},
   "outputs": [],
   "source": []
  },
  {
   "cell_type": "code",
   "execution_count": null,
   "metadata": {},
   "outputs": [],
   "source": []
  },
  {
   "cell_type": "code",
   "execution_count": null,
   "metadata": {},
   "outputs": [],
   "source": []
  },
  {
   "cell_type": "markdown",
   "metadata": {},
   "source": [
    "# 반복문 for   : 자료구조 순회하기(iteration)\n",
    "#### - for , continue, break 학습하기\n",
    "#### - 중첩된 for 문 사용하기 \n",
    "#### - list, 문자열, 사전, range() 순회 학습하기"
   ]
  },
  {
   "attachments": {
    "image.png": {
     "image/png": "[encoded data removed]"
    }
   },
   "cell_type": "markdown",
   "metadata": {},
   "source": [
    "![image.png](attachment:image.png)"
   ]
  },
  {
   "cell_type": "code",
   "execution_count": null,
   "metadata": {},
   "outputs": [],
   "source": []
  },
  {
   "attachments": {
    "image.png": {
     "image/png": "[encoded data removed]"
    }
   },
   "cell_type": "markdown",
   "metadata": {},
   "source": [
    "![image.png](attachment:image.png)\n",
    "\n",
    "단, 사전의 key의 경우: ver. 3.7이상 - 입력된 key 순서에 따라 순회, 그 이하의 경우, set과 같음"
   ]
  },
  {
   "cell_type": "code",
   "execution_count": null,
   "metadata": {},
   "outputs": [],
   "source": []
  },
  {
   "cell_type": "code",
   "execution_count": null,
   "metadata": {},
   "outputs": [],
   "source": []
  },
  {
   "cell_type": "markdown",
   "metadata": {},
   "source": [
    "### for문과 문자열"
   ]
  },
  {
   "cell_type": "code",
   "execution_count": null,
   "metadata": {},
   "outputs": [],
   "source": []
  },
  {
   "cell_type": "code",
   "execution_count": null,
   "metadata": {},
   "outputs": [],
   "source": []
  },
  {
   "cell_type": "code",
   "execution_count": null,
   "metadata": {},
   "outputs": [],
   "source": [
    "#사용자로부터 문자열을 받아서 모음을 모두 없애고 자음만 출력하시오\n",
    "\n"
   ]
  },
  {
   "cell_type": "code",
   "execution_count": null,
   "metadata": {},
   "outputs": [],
   "source": []
  },
  {
   "cell_type": "code",
   "execution_count": null,
   "metadata": {},
   "outputs": [],
   "source": []
  },
  {
   "cell_type": "markdown",
   "metadata": {},
   "source": [
    "### [도전 문제]문자열 중에서 자음과 모음의 갯수 집계하기\n"
   ]
  },
  {
   "cell_type": "code",
   "execution_count": null,
   "metadata": {},
   "outputs": [],
   "source": []
  },
  {
   "cell_type": "code",
   "execution_count": null,
   "metadata": {},
   "outputs": [],
   "source": []
  },
  {
   "cell_type": "markdown",
   "metadata": {},
   "source": [
    "### for문과 리스트"
   ]
  },
  {
   "cell_type": "code",
   "execution_count": null,
   "metadata": {},
   "outputs": [],
   "source": []
  },
  {
   "cell_type": "code",
   "execution_count": null,
   "metadata": {},
   "outputs": [],
   "source": []
  },
  {
   "cell_type": "markdown",
   "metadata": {},
   "source": [
    "### 여러 개의 리스트 다루기\n"
   ]
  },
  {
   "cell_type": "raw",
   "metadata": {},
   "source": [
    "# 학생 이름 [‘James’, ‘Robert’, ‘Lisa’, ’Mary’] 자료와 각 학생의 점수 자료 [95, 96, 97, 94]가 있을 때, 이름 별로 시험 점수를 출력하는 프로그램\n"
   ]
  },
  {
   "cell_type": "code",
   "execution_count": null,
   "metadata": {},
   "outputs": [],
   "source": []
  },
  {
   "cell_type": "markdown",
   "metadata": {},
   "source": [
    "### zip()함수를 활용하기"
   ]
  },
  {
   "cell_type": "code",
   "execution_count": null,
   "metadata": {},
   "outputs": [],
   "source": []
  },
  {
   "cell_type": "markdown",
   "metadata": {},
   "source": [
    "### for과 사전(dict)\n",
    "  - dictionary의 경우 기본적으로 순회 하게 되면 key값을 참조\n",
    "  - keys()함수를 이용하여 key 값만 순회 가능\n",
    "  - values()함수를 이용하여 value 값만 순회 가능\n",
    "  - items()함수를 이용하여 tuple형태로 key, value 순회 가능"
   ]
  },
  {
   "cell_type": "code",
   "execution_count": null,
   "metadata": {},
   "outputs": [],
   "source": []
  },
  {
   "cell_type": "code",
   "execution_count": null,
   "metadata": {},
   "outputs": [],
   "source": []
  },
  {
   "cell_type": "code",
   "execution_count": null,
   "metadata": {},
   "outputs": [],
   "source": [
    "dict1 = dict(a = \"apple\",\n",
    "             b = \"banana\",\n",
    "             c = \"candy\",\n",
    "             d = \"dog\",\n",
    "             e = \"elephant\")"
   ]
  },
  {
   "cell_type": "code",
   "execution_count": null,
   "metadata": {},
   "outputs": [],
   "source": []
  },
  {
   "cell_type": "code",
   "execution_count": null,
   "metadata": {},
   "outputs": [],
   "source": []
  },
  {
   "cell_type": "markdown",
   "metadata": {},
   "source": [
    "#### 집합 및 튜플 자료 반복하기"
   ]
  },
  {
   "cell_type": "code",
   "execution_count": null,
   "metadata": {},
   "outputs": [],
   "source": []
  },
  {
   "cell_type": "code",
   "execution_count": null,
   "metadata": {},
   "outputs": [],
   "source": []
  },
  {
   "cell_type": "code",
   "execution_count": null,
   "metadata": {},
   "outputs": [],
   "source": []
  },
  {
   "cell_type": "code",
   "execution_count": null,
   "metadata": {},
   "outputs": [],
   "source": []
  },
  {
   "cell_type": "markdown",
   "metadata": {},
   "source": [
    "### range() 함수를 사용한 반복문 순회\n",
    "#### - range(start, end, step) : \n",
    "        - 리스트를 쉽게 만들 수 있는 내장함수\n",
    "        - 주어진 값에 따라 다양한 결과를 반환\n",
    "        - 특정 구간의 정수를 생성\n",
    "        - end값은 포함되지 않는다\n",
    "        range(10)       -> [0, 1, 2, 3, 4, 5, 6, 7, 8, 9]\n",
    "        range(2, 10)    -> [2, 3, 4, 5, 6, 7, 8, 9] \n",
    "        range(2, 10, 3) -> [2, 5, 8] \n",
    "####  for문에서 range()를 사용하여 반복을 제어할 수 있다."
   ]
  },
  {
   "cell_type": "code",
   "execution_count": null,
   "metadata": {},
   "outputs": [],
   "source": [
    "# range() 함수 연습"
   ]
  },
  {
   "attachments": {
    "image.png": {
     "image/png": "[encoded data removed]"
    }
   },
   "cell_type": "markdown",
   "metadata": {},
   "source": [
    "![image.png](attachment:image.png)"
   ]
  },
  {
   "cell_type": "code",
   "execution_count": null,
   "metadata": {},
   "outputs": [],
   "source": []
  },
  {
   "cell_type": "code",
   "execution_count": null,
   "metadata": {},
   "outputs": [],
   "source": []
  },
  {
   "attachments": {
    "image.png": {
     "image/png": "[encoded data removed]"
    }
   },
   "cell_type": "markdown",
   "metadata": {},
   "source": [
    "![image.png](attachment:image.png)"
   ]
  },
  {
   "cell_type": "code",
   "execution_count": null,
   "metadata": {},
   "outputs": [],
   "source": [
    "#range() 함수는 역순으로도 정수 발생 가능\n"
   ]
  },
  {
   "cell_type": "code",
   "execution_count": null,
   "metadata": {},
   "outputs": [],
   "source": []
  },
  {
   "cell_type": "markdown",
   "metadata": {},
   "source": [
    "### enumerate() 함수를 이용한 반복문 순회\n",
    "    - 반복문 사용 시 몇 번째 반복문인지 확인이 필요할 때 사용\n",
    "    - 인덱스 번호와 컬렉션의 원소를 tuple형태로 반환합니다.\n",
    "    \n",
    "    "
   ]
  },
  {
   "cell_type": "code",
   "execution_count": null,
   "metadata": {},
   "outputs": [],
   "source": []
  },
  {
   "attachments": {
    "image-3.png": {
     "image/png": "[encoded data removed]"
    }
   },
   "cell_type": "markdown",
   "metadata": {},
   "source": [
    "#### [quiz] for 반복문 연습\n",
    " 1) ![image-3.png](attachment:image-3.png)"
   ]
  },
  {
   "cell_type": "code",
   "execution_count": null,
   "metadata": {},
   "outputs": [],
   "source": []
  },
  {
   "cell_type": "markdown",
   "metadata": {},
   "source": [
    "2) 일주일을 구성하는 각각의 요일을 한글과 영어로 함께 출력해보세요. \n",
    "\t(hint: 사전 (dictionary), 함수 (zip, enumerate) 응용)\u000b",
    "\n"
   ]
  },
  {
   "cell_type": "code",
   "execution_count": null,
   "metadata": {},
   "outputs": [],
   "source": []
  },
  {
   "cell_type": "markdown",
   "metadata": {},
   "source": [
    "### break, continue\n",
    "    - while문과 동일하게 break, continue가 동작함\n",
    "    - 주로 조건문과 함께 사용되며, 조건이 맞으면 반복문을 종료하고, 코드블록을 탈출함.\n",
    "    "
   ]
  },
  {
   "cell_type": "code",
   "execution_count": null,
   "metadata": {},
   "outputs": [],
   "source": [
    "# 예제: 점수가 60점 이상인 학생만 “**점, 합격입니다＂를 출력하라\n"
   ]
  },
  {
   "cell_type": "code",
   "execution_count": null,
   "metadata": {},
   "outputs": [],
   "source": []
  },
  {
   "cell_type": "code",
   "execution_count": null,
   "metadata": {},
   "outputs": [],
   "source": [
    "# 예제: num = list(range(1, 100)) 일때 1 ~ 10까지 합을 구하세요.\n"
   ]
  },
  {
   "cell_type": "code",
   "execution_count": null,
   "metadata": {},
   "outputs": [],
   "source": []
  },
  {
   "cell_type": "code",
   "execution_count": null,
   "metadata": {},
   "outputs": [],
   "source": [
    "# 예제: 임의의 숫자를 키보드로부터 입력 받아 소수 여부를 알려주는 코드 작성하세요.(for 반복문과 break문을 이용)\n",
    "\n",
    "# 소수(primenum) : 1과 자기 자신 이외에 나누어지지 않는 수"
   ]
  },
  {
   "cell_type": "code",
   "execution_count": null,
   "metadata": {},
   "outputs": [],
   "source": []
  },
  {
   "cell_type": "code",
   "execution_count": null,
   "metadata": {},
   "outputs": [],
   "source": []
  },
  {
   "cell_type": "markdown",
   "metadata": {},
   "source": [
    "### continue :  건너뛰기\n",
    "    - 반복문을 중단하고 싶지는 않지만 특정한 이유로 다음 루프(loop)로 건너뛰고 싶을 때\n",
    "    - 즉, continue문 다음에 남은 코드블록은 건너뛰고, 다음 루프로 이동한다.\n",
    "    - 주로 조건문과 함께 사용한다(조건이 참이면 다음 루프로 이동, False이면 현재 루프의 코드 실행 진행)\n",
    "    "
   ]
  },
  {
   "cell_type": "code",
   "execution_count": null,
   "metadata": {},
   "outputs": [],
   "source": []
  },
  {
   "cell_type": "code",
   "execution_count": null,
   "metadata": {},
   "outputs": [],
   "source": [
    "# 합격 메시지 출력 (\"#번은 합격입니다.\")\n"
   ]
  },
  {
   "cell_type": "code",
   "execution_count": null,
   "metadata": {},
   "outputs": [],
   "source": [
    "#enumerate(), range() , if 사용"
   ]
  },
  {
   "cell_type": "code",
   "execution_count": null,
   "metadata": {},
   "outputs": [],
   "source": []
  },
  {
   "cell_type": "code",
   "execution_count": null,
   "metadata": {},
   "outputs": [],
   "source": []
  },
  {
   "cell_type": "markdown",
   "metadata": {},
   "source": [
    "### 중첩 for 문: nested for loop\n",
    "  - 반복문의 경우에도 중첩하여 사용 가능\n",
    "  - 중첩이라는 것은 반복문 블록의 코드안에 또 반복문의 코드가 작성되는 것을 의미\n",
    "  - 이런 경우, 내부 루프는 외부 루프가 수행되는 만큼 반복 수행 됨\n",
    "  - 또한 중첩의 경우 무한히 가능\n",
    "  - 들여쓰기를 주의해야 함.\n",
    "\n"
   ]
  },
  {
   "cell_type": "code",
   "execution_count": 1,
   "metadata": {},
   "outputs": [],
   "source": [
    "# 예제) 구구단 출력하기\n"
   ]
  },
  {
   "cell_type": "code",
   "execution_count": null,
   "metadata": {},
   "outputs": [],
   "source": []
  },
  {
   "cell_type": "code",
   "execution_count": null,
   "metadata": {},
   "outputs": [],
   "source": [
    "# 다음과 같은 출력이 되도록 프로그램하세요."
   ]
  },
  {
   "cell_type": "markdown",
   "metadata": {},
   "source": [
    "    ****\n",
    "    ***\n",
    "    **\n",
    "    *"
   ]
  },
  {
   "cell_type": "code",
   "execution_count": null,
   "metadata": {},
   "outputs": [],
   "source": []
  },
  {
   "cell_type": "markdown",
   "metadata": {},
   "source": [
    "# 실습 퀴즈\n",
    "### 구구단 작성 프로그램\n",
    "      1. 구구단 (2단 ~ 9단)을 출력하는 프로그램을 작성하세요.\n",
    "         - 힌트) print(\"{} * {} = {}\".format(a, b, a * b))\n",
    "      \n",
    "      2. 1 - 100까지 정수 중 2의 배수 또는 11의 배수를 모두 출력하시오. \n",
    "      3. a = [22, 1, 3, 4, 7, 98, 21, 55, 87, 99, 19, 20, 45] 에서 최대값과 최소값을 찾으시오.\n",
    "      4. a = [22, 1, 3, 4, 7, 98, 21, 55, 87, 99, 19, 20, 45] 에서 평균을 구하세요.\n",
    "  \n",
    " \n",
    "\n"
   ]
  },
  {
   "cell_type": "code",
   "execution_count": null,
   "metadata": {},
   "outputs": [],
   "source": []
  },
  {
   "cell_type": "code",
   "execution_count": null,
   "metadata": {},
   "outputs": [],
   "source": []
  },
  {
   "cell_type": "code",
   "execution_count": null,
   "metadata": {},
   "outputs": [],
   "source": []
  },
  {
   "cell_type": "code",
   "execution_count": null,
   "metadata": {},
   "outputs": [],
   "source": []
  },
  {
   "cell_type": "markdown",
   "metadata": {},
   "source": [
    "# while   : 자료구조 순회하기(iteration)\n",
    "\n",
    "    - while 뒤의 조건이 True일 경우, while 코드 블록을 계속 수행\n",
    "    -  while 코드 블록\n",
    "    - if와 마찬가지로 while문 아래의 들여쓰기로 작성 된 부분을 의미\n",
    "    - 조건이 False가 되면 블록 수행을 멈추고 이후 코드를 실행\n"
   ]
  },
  {
   "attachments": {
    "image.png": {
     "image/png": "[encoded data removed]"
    }
   },
   "cell_type": "markdown",
   "metadata": {},
   "source": [
    "![image.png](attachment:image.png)"
   ]
  },
  {
   "cell_type": "code",
   "execution_count": null,
   "metadata": {},
   "outputs": [],
   "source": [
    "# 사용자로부터 비밀번호를 입력 받고 설정된 비밀번호와 일치하는지 검사한다. \n",
    "# 올바른 비밀번호가 입력 될 때까지 입력을 반복하며, 올바른 비밀번호가 입력되면 ‘로그인’ 을 출력한다. \n"
   ]
  },
  {
   "cell_type": "code",
   "execution_count": null,
   "metadata": {},
   "outputs": [],
   "source": []
  },
  {
   "cell_type": "code",
   "execution_count": null,
   "metadata": {},
   "outputs": [],
   "source": [
    "# 횟수 제한 : ‘안녕하세요’를 5회 출력하라\n"
   ]
  },
  {
   "cell_type": "code",
   "execution_count": null,
   "metadata": {},
   "outputs": [],
   "source": []
  },
  {
   "cell_type": "code",
   "execution_count": null,
   "metadata": {},
   "outputs": [],
   "source": [
    "# 횟수 제한 및 더하기 합산 : 1부터 10까지 합을 구하라\n"
   ]
  },
  {
   "cell_type": "code",
   "execution_count": null,
   "metadata": {},
   "outputs": [],
   "source": []
  },
  {
   "cell_type": "code",
   "execution_count": null,
   "metadata": {},
   "outputs": [],
   "source": []
  },
  {
   "cell_type": "markdown",
   "metadata": {},
   "source": [
    "## 반복문을 탈출시키는 break"
   ]
  },
  {
   "cell_type": "markdown",
   "metadata": {},
   "source": [
    "### 1) break\n",
    "        - loop를 중단할 때 사용\n",
    "        - 보통 조건문 안에서 수행되며, 조건을 만족하는 경우 loop를 탈출하기 위해 사용\n",
    "        - loop를 중단 하는 경우, while 이후의 코드를 수행\n",
    "        - 주로 조건문과 함께 사용되며, 조건이 맞으면(True) 반복문을 강제 종료\n",
    "        \n",
    "        "
   ]
  },
  {
   "cell_type": "code",
   "execution_count": null,
   "metadata": {},
   "outputs": [],
   "source": []
  },
  {
   "cell_type": "code",
   "execution_count": null,
   "metadata": {},
   "outputs": [],
   "source": [
    "# 예제: num = list(range(1, 100)) 일때 1 ~ 10까지 합을 구하세요.(단, break를 사용할 것)"
   ]
  },
  {
   "cell_type": "code",
   "execution_count": null,
   "metadata": {},
   "outputs": [],
   "source": []
  },
  {
   "cell_type": "code",
   "execution_count": null,
   "metadata": {},
   "outputs": [],
   "source": []
  },
  {
   "cell_type": "code",
   "execution_count": null,
   "metadata": {},
   "outputs": [],
   "source": []
  },
  {
   "cell_type": "code",
   "execution_count": null,
   "metadata": {},
   "outputs": [],
   "source": [
    "# # 예제: 임의의 숫자를 키보드에서 입력받아 소수 여부를 알려주는 코드 작성하세요.(break를 이용하세요)\n",
    "\n",
    "# 소수(primenum) : 1과 자기 자신 이외에 나누어지지 않는 수"
   ]
  },
  {
   "cell_type": "code",
   "execution_count": null,
   "metadata": {},
   "outputs": [],
   "source": []
  },
  {
   "cell_type": "code",
   "execution_count": null,
   "metadata": {},
   "outputs": [],
   "source": []
  },
  {
   "cell_type": "code",
   "execution_count": null,
   "metadata": {},
   "outputs": [],
   "source": []
  },
  {
   "cell_type": "markdown",
   "metadata": {},
   "source": [
    "## 무한 루프와 break\n",
    "    반복문이 멈추지 않고 무한히 코드블록이 반복되는 경우"
   ]
  },
  {
   "cell_type": "code",
   "execution_count": null,
   "metadata": {},
   "outputs": [],
   "source": []
  },
  {
   "cell_type": "code",
   "execution_count": null,
   "metadata": {},
   "outputs": [],
   "source": []
  },
  {
   "cell_type": "code",
   "execution_count": null,
   "metadata": {},
   "outputs": [],
   "source": [
    "# 무한루프인 경우 탈출 조건을 꼭 가져야 함."
   ]
  },
  {
   "cell_type": "code",
   "execution_count": null,
   "metadata": {},
   "outputs": [],
   "source": []
  },
  {
   "cell_type": "markdown",
   "metadata": {},
   "source": [
    "## continue\n",
    "       반목문 내에서 \n",
    "       + 조건이 참이면 continue를 만났을 때 아래 코드를 건너뛰고 loop 처음으로 이동하며, \n",
    "       + 조건이 거짓이면 loop 내 코드를 계속 진행함. \n",
    "       \n",
    "       + break와 다른 점: break는 코드 블록을 빠져나오지만, continue는 loop를 계속 수행"
   ]
  },
  {
   "cell_type": "code",
   "execution_count": null,
   "metadata": {},
   "outputs": [],
   "source": [
    "# 1부터 10사이의 자연수 중에서 짝수만 출력하라"
   ]
  },
  {
   "cell_type": "code",
   "execution_count": null,
   "metadata": {},
   "outputs": [],
   "source": []
  },
  {
   "cell_type": "code",
   "execution_count": null,
   "metadata": {},
   "outputs": [],
   "source": []
  },
  {
   "cell_type": "code",
   "execution_count": null,
   "metadata": {},
   "outputs": [],
   "source": [
    "# 1 ~100의 숫자 중에 3의 배수만을 더하는 합계 프로그램을 작성하라(range() 함수를 사용)\n",
    "\n"
   ]
  },
  {
   "cell_type": "code",
   "execution_count": null,
   "metadata": {},
   "outputs": [],
   "source": []
  },
  {
   "cell_type": "code",
   "execution_count": null,
   "metadata": {},
   "outputs": [],
   "source": []
  },
  {
   "cell_type": "code",
   "execution_count": null,
   "metadata": {},
   "outputs": [],
   "source": [
    "# 1 ~100의 숫자 중에 3의 배수를 제외한 수만을 더하는 합계 프로그램을 작성하라(range() 함수를 사용)\n"
   ]
  },
  {
   "cell_type": "code",
   "execution_count": null,
   "metadata": {},
   "outputs": [],
   "source": []
  },
  {
   "cell_type": "code",
   "execution_count": null,
   "metadata": {},
   "outputs": [],
   "source": []
  },
  {
   "cell_type": "code",
   "execution_count": null,
   "metadata": {},
   "outputs": [],
   "source": [
    "#continue 예제\n",
    "# 1 ~100의 숫자 중에 3의 배수를 제외한 수만을 더하는 합계 프로그램\n"
   ]
  },
  {
   "cell_type": "code",
   "execution_count": null,
   "metadata": {},
   "outputs": [],
   "source": []
  },
  {
   "cell_type": "code",
   "execution_count": null,
   "metadata": {},
   "outputs": [],
   "source": []
  },
  {
   "cell_type": "code",
   "execution_count": null,
   "metadata": {},
   "outputs": [],
   "source": []
  },
  {
   "attachments": {
    "image.png": {
     "image/png": "[encoded data removed]"
    }
   },
   "cell_type": "markdown",
   "metadata": {},
   "source": [
    "![image.png](attachment:image.png)"
   ]
  },
  {
   "cell_type": "code",
   "execution_count": null,
   "metadata": {},
   "outputs": [],
   "source": []
  },
  {
   "cell_type": "code",
   "execution_count": null,
   "metadata": {},
   "outputs": [],
   "source": []
  },
  {
   "cell_type": "code",
   "execution_count": null,
   "metadata": {},
   "outputs": [],
   "source": []
  },
  {
   "cell_type": "code",
   "execution_count": null,
   "metadata": {},
   "outputs": [],
   "source": []
  }
 ],
 "metadata": {
  "kernelspec": {
   "display_name": "Python 3",
   "language": "python",
   "name": "python3"
  },
  "language_info": {
   "codemirror_mode": {
    "name": "ipython",
    "version": 3
   },
   "file_extension": ".py",
   "mimetype": "text/x-python",
   "name": "python",
   "nbconvert_exporter": "python",
   "pygments_lexer": "ipython3",
   "version": "3.8.8"
  }
 },
 "nbformat": 4,
 "nbformat_minor": 4
}
