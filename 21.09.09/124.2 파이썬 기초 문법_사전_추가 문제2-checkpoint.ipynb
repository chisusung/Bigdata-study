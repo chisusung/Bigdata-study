{
 "cells": [
  {
   "cell_type": "code",
   "execution_count": 2,
   "id": "15d050f0",
   "metadata": {},
   "outputs": [],
   "source": [
    "# 서울시 자치구의 구 정보를 담고 있는 다음과 같은 사전이 있다.\n",
    "data = {'종로구': {'남자': 77391,\n",
    "  '여자': 82451,\n",
    "  '65세이상': 28396,\n",
    "  '세대수': 74861,\n",
    "    },\n",
    " '중구': {'남자': 66193,\n",
    "  '여자': 69128,\n",
    "  '65세이상': 24265,\n",
    "  '세대수': 63594,,\n",
    "  },\n",
    " '용산구': {'남자': 119074,\n",
    "  '여자': 125879,\n",
    "  '65세이상': 39995,\n",
    "  '세대수': 112451,\n",
    "       }"
   ]
  },
  {
   "cell_type": "code",
   "execution_count": 3,
   "id": "c76dfe17",
   "metadata": {},
   "outputs": [],
   "source": [
    "# 종로구 남자 인구, 여자 인구의 합을 구하시오.(for 반복문 사용)"
   ]
  },
  {
   "cell_type": "code",
   "execution_count": null,
   "id": "45a34f53",
   "metadata": {},
   "outputs": [],
   "source": [
    "for x in range(0,3,1)"
   ]
  },
  {
   "cell_type": "code",
   "execution_count": 4,
   "id": "0912f2ec",
   "metadata": {},
   "outputs": [],
   "source": [
    "# 각 구별 인구의 합을 나타내는 정보를 data 사전의 각 구 정보에 추가하시오.\n",
    "# 힌트:for 반복문, 사전의 항목 추가"
   ]
  },
  {
   "cell_type": "raw",
   "id": "7b53884a",
   "metadata": {},
   "source": [
    "실행결과:\n",
    "    {'종로구': {'남자': 77391,\n",
    "  '여자': 82451,\n",
    "  '65세이상': 28396,\n",
    "  '세대수': 74861,\n",
    "  '합계': 159842,\n",
    "  },\n",
    " '중구': {'남자': 66193,\n",
    "  '여자': 69128,\n",
    "  '65세이상': 24265,\n",
    "  '세대수': 63594,\n",
    "  '합계': 135321,\n",
    "  },\n",
    " '용산구': {'남자': 119074,\n",
    "  '여자': 125879,\n",
    "  '65세이상': 39995,\n",
    "  '세대수': 112451,\n",
    "  '합계': 244953,\n",
    "  }\n",
    "    }"
   ]
  },
  {
   "cell_type": "code",
   "execution_count": null,
   "id": "0227052d",
   "metadata": {},
   "outputs": [],
   "source": []
  },
  {
   "cell_type": "code",
   "execution_count": 5,
   "id": "5ed6d48b",
   "metadata": {},
   "outputs": [],
   "source": [
    "# 각 구별 고령자 인구 비율을 나타내는 항목을 추가하시오.\n",
    "# 힌트:for 반복문, 사전의 항목 추가"
   ]
  },
  {
   "cell_type": "raw",
   "id": "1641c821",
   "metadata": {},
   "source": [
    "실행결과:\n",
    "    {'종로구': {'남자': 77391,\n",
    "  '여자': 82451,\n",
    "  '65세이상': 28396,\n",
    "  '세대수': 74861,\n",
    "  '합계': 159842,\n",
    "  '고령자비율': 17.77},\n",
    " '중구': {'남자': 66193,\n",
    "  '여자': 69128,\n",
    "  '65세이상': 24265,\n",
    "  '세대수': 63594,\n",
    "  '합계': 135321,\n",
    "  '고령자비율': 17.93},\n",
    " '용산구': {'남자': 119074,\n",
    "  '여자': 125879,\n",
    "  '65세이상': 39995,\n",
    "  '세대수': 112451,\n",
    "  '합계': 244953,\n",
    "  '고령자비율': 16.33}"
   ]
  }
 ],
 "metadata": {
  "kernelspec": {
   "display_name": "Python 3",
   "language": "python",
   "name": "python3"
  },
  "language_info": {
   "codemirror_mode": {
    "name": "ipython",
    "version": 3
   },
   "file_extension": ".py",
   "mimetype": "text/x-python",
   "name": "python",
   "nbconvert_exporter": "python",
   "pygments_lexer": "ipython3",
   "version": "3.8.8"
  }
 },
 "nbformat": 4,
 "nbformat_minor": 5
}
